{
 "cells": [
  {
   "cell_type": "markdown",
   "id": "77bb8ccf-a462-42d3-b200-0287e867f17f",
   "metadata": {},
   "source": [
    "# Evaluation \n",
    "\n",
    "**Pros:**\n",
    "\n",
    "* I would for sure benefit from some of the modes, especially the test mode, for a quick and easy way to assess how I am doing with a particular topic\n",
    "    * I feel like it is faster--the feedback and assessment generation\n",
    "* Through testing other modes such as the initial learning mode, I actually learned so much on what Representational Similarity Analysis is. It honestly saved me a trip going to office hours or even just reviewing the lecture slides.\n",
    "* For the most part I felt the answers were overall more concise and didn't get as convoluted or detailed unless it needed to like for the tutor mode, or  asked more clarifying questions (I find that is typically the case when it comes to asking ChatGPT or Claude for help on these kind of questions and it is not always the most efficient for me)\n",
    "\n",
    "**Cons:** \n",
    "\n",
    "* I think most of the issues I had testing some of the modes are largely due to design error\n",
    "   * I had a rather difficult time putting together Gradio, I originally tested out the prompt I created on ChatGPT to see how it will interact with me, which worked more to my liking than the way Gradio ended up\n",
    "   * There were some slight differences from interacting with Gradio than when I did ChatGPT responses such as the diversity of ChatGPT's answers and questions in progressing the conversation with the user, whereas when I did it with Gradio, it mostly progresses the conversation forward with the user by just asking the question of if its answers were clear\n",
    "* Feel like the mode for the concept mapper was very understimulating and lackluster, we can attribute that to design error, I could've made the instructions for this part of the model more concrete\n",
    "* I do think for things like the tutor mode it can be considered a little wordy and not truly representative of how a human tutor would try to explain things to me\n",
    "\n",
    "**Possible Considerations**\n",
    "\n",
    "* Revising code that calls to Gradio and the GPT4 model within it, and minimizing the variances between them to get the Gradio interface to be more robust. "
   ]
  }
 ],
 "metadata": {
  "kernelspec": {
   "display_name": "Python 3-12 (COMM4190)",
   "language": "python",
   "name": "python3-12_comm4190"
  },
  "language_info": {
   "codemirror_mode": {
    "name": "ipython",
    "version": 3
   },
   "file_extension": ".py",
   "mimetype": "text/x-python",
   "name": "python",
   "nbconvert_exporter": "python",
   "pygments_lexer": "ipython3",
   "version": "3.12.8"
  }
 },
 "nbformat": 4,
 "nbformat_minor": 5
}
