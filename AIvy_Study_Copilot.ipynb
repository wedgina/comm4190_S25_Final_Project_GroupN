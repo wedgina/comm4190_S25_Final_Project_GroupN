{
 "cells": [
  {
   "cell_type": "code",
   "execution_count": 1,
   "id": "6c7e1e8a-824a-4e69-b9fa-09d74227c971",
   "metadata": {},
   "outputs": [],
   "source": [
    "import openai\n",
    "import gradio as gr\n",
    "from dotenv import load_dotenv\n",
    "import os\n",
    "import requests\n",
    "import json\n",
    "import numpy as np\n",
    "\n",
    "_ = load_dotenv()"
   ]
  },
  {
   "cell_type": "code",
   "execution_count": 2,
   "id": "d6bb5b4b-7123-4f68-97ae-cfdec1d0a594",
   "metadata": {},
   "outputs": [
    {
     "name": "stderr",
     "output_type": "stream",
     "text": [
      "/opt/jupyterhub/share/jupyter/venv/python3-12_comm4190/lib/python3.12/site-packages/gradio/utils.py:1017: UserWarning: Expected 3 arguments for function <function user at 0x7f7a3731f920>, received 2.\n",
      "  warnings.warn(\n",
      "/opt/jupyterhub/share/jupyter/venv/python3-12_comm4190/lib/python3.12/site-packages/gradio/utils.py:1021: UserWarning: Expected at least 3 arguments for function <function user at 0x7f7a3731f920>, received 2.\n",
      "  warnings.warn(\n"
     ]
    },
    {
     "name": "stdout",
     "output_type": "stream",
     "text": [
      "* Running on local URL:  http://127.0.0.1:7860\n",
      "* Running on public URL: https://169514ca64b8d6d519.gradio.live\n",
      "\n",
      "This share link expires in 72 hours. For free permanent hosting and GPU upgrades, run `gradio deploy` from the terminal in the working directory to deploy to Hugging Face Spaces (https://huggingface.co/spaces)\n"
     ]
    },
    {
     "data": {
      "text/html": [
       "<div><iframe src=\"https://169514ca64b8d6d519.gradio.live\" width=\"100%\" height=\"500\" allow=\"autoplay; camera; microphone; clipboard-read; clipboard-write;\" frameborder=\"0\" allowfullscreen></iframe></div>"
      ],
      "text/plain": [
       "<IPython.core.display.HTML object>"
      ]
     },
     "metadata": {},
     "output_type": "display_data"
    },
    {
     "data": {
      "text/plain": []
     },
     "execution_count": 2,
     "metadata": {},
     "output_type": "execute_result"
    },
    {
     "name": "stderr",
     "output_type": "stream",
     "text": [
      "/opt/jupyterhub/share/jupyter/venv/python3-12_comm4190/lib/python3.12/site-packages/gradio/helpers.py:968: UserWarning: Unexpected argument. Filling with None.\n",
      "  warnings.warn(\"Unexpected argument. Filling with None.\")\n"
     ]
    }
   ],
   "source": [
    "chat_log = []\n",
    "\n",
    "def predict(message, history):\n",
    "    openai_messages = [\n",
    "        {\n",
    "            \"role\": \"system\",\n",
    "            \"content\": (\n",
    "                \"\"\"\n",
    "You are a Study Copilot: a warm, encouraging AI assistant whose mission is to help students fully understand academic concepts through flexible support modes. Your goal is to respond to where the student is in their learning journey and guide them patiently until they grasp the subject.\n",
    "\n",
    "IMPORTANT: Before providing any educational content, you MUST follow this sequence:\n",
    "1. Ensure the student has clearly selected one of the 4 learning modes (Test Mode, Tutor Mode, Initial Learning Mode, or Concept Mapper Mode)\n",
    "2. Confirm they have specified a clear subject or topic they want to learn about\n",
    "3. Assess their background and current knowledge level in the subject by asking about:\n",
    "   - Their prior experience with the subject\n",
    "   - Any specific concepts they already understand\n",
    "   - Their comfort level with the material (beginner, intermediate, advanced)\n",
    "   - Any specific goals they have for learning this subject\n",
    "\n",
    "Only after gathering all this information should you proceed with tailored educational content. If any information is missing, politely ask for it before moving forward.\n",
    "\n",
    "Your role includes:\n",
    "\n",
    "1. **Intro + Discovery**\n",
    "   - Greet the student warmly and explain your role.\n",
    "   - Briefly introduce the 4 available learning modes:\n",
    "     • Test Mode: Practice tests with feedback.\n",
    "     • Tutor Mode: Targeted help to clarify confusing concepts.\n",
    "     • Initial Learning Mode: Basic understanding with definitions and practice.\n",
    "     • Concept Mapper Mode: Building structured study guides with examples.\n",
    "   - Ask about the student's background and experience level in the subject.\n",
    "   - Ask what they want to learn and if they'd like to upload files or use web searches.\n",
    "   - Only ask **one question at a time** and do **not move on** until they feel confident.\n",
    "   - Always ask if they have further questions before moving on.\n",
    "2. **Test Mode**\n",
    "   - Ask for the concept to test.\n",
    "   - Ask how many questions they want (or choose appropriate number).\n",
    "   - If situation requires it, give practice problems for student to work through (especially if stem)\n",
    "   - Create a range of question difficulties, including critical thinking.\n",
    "   - After the test, score and review incorrect answers one by one.\n",
    "   - Ensure understanding before moving on.\n",
    "   - Ask if they'd like another test or help with anything else.\n",
    "\n",
    "3. **Tutor Mode**\n",
    "   - Ask what they understand so far and what's confusing.\n",
    "   - Explain concisely, using examples where helpful.\n",
    "   - Answer follow-ups and check comprehension with single questions.\n",
    "   - Provide real-world examples and explain how they connect.\n",
    "   - Ask if they'd like help with anything else.\n",
    "\n",
    "4. **Initial Learning Mode**\n",
    "   - Start with simple questions about definitions/processes.\n",
    "   - Offer practice problems after basic understanding is confirmed.\n",
    "   - Review answers and walk through any the student struggled with.\n",
    "   - Ask if they now feel confident or want to go deeper.\n",
    "\n",
    "5. **Concept Mapper Mode**\n",
    "   - Build a concise but detailed study guide showing connections between concepts.\n",
    "   - Add examples and ask how they relate to the concept.\n",
    "   - Ask questions based on the map one at a time, waiting for responses.\n",
    "   - Ask if anything still needs clarification or if they'd like to continue.\n",
    "\n",
    "Always end your messages with a single helpful question.\n",
    "Be patient, concise, and encouraging.\n",
    "\"\"\"\n",
    "            )\n",
    "        }\n",
    "    ]\n",
    "    openai_messages.extend(history)\n",
    "    openai_messages.append({\"role\": \"user\", \"content\": message})\n",
    "    \n",
    "    client = openai.OpenAI()\n",
    "    response = client.chat.completions.create(\n",
    "        model='gpt-4',\n",
    "        messages=openai_messages,\n",
    "        temperature=1.0,\n",
    "        stream=True\n",
    "    )\n",
    "    \n",
    "    partial_message = \"\"\n",
    "    for chunk in response:\n",
    "        if hasattr(chunk.choices[0].delta, \"content\") and chunk.choices[0].delta.content is not None:\n",
    "            partial_message += chunk.choices[0].delta.content\n",
    "            yield partial_message\n",
    "    \n",
    "    return partial_message\n",
    "\n",
    "initial_msg = \"\"\"Hello! I'm your Study Copilot, an AI assistant designed to help you understand academic concepts through different learning modes.\n",
    "\n",
    "To get started and provide you with the most helpful learning experience, I'll need some information:\n",
    "\n",
    "1️⃣ **Select a learning mode**:\n",
    "- **Test Mode**: Practice tests with feedback on your answers\n",
    "- **Tutor Mode**: Targeted help to clarify confusing concepts\n",
    "- **Initial Learning Mode**: Build basic understanding with definitions and practice\n",
    "- **Concept Mapper Mode**: Create structured study guides with examples\n",
    "\n",
    "2️⃣ **Choose a subject or topic** you want to learn about\n",
    "\n",
    "3️⃣ Once you've shared these, I'll ask about your background knowledge in the subject to better tailor the content to your needs\n",
    "\n",
    "What subject would you like to explore, and which learning mode would you prefer?\"\"\"\n",
    "\n",
    "theme = gr.themes.Ocean(\n",
    "    primary_hue=\"green\",\n",
    "    secondary_hue=\"violet\",\n",
    "    neutral_hue=\"indigo\",\n",
    "    font=[\"Inter\", \"sans-serif\"],\n",
    "    spacing_size=\"lg\",\n",
    "    radius_size=\"lg\"\n",
    ")\n",
    "\n",
    "custom_css = \"\"\"\n",
    ".gradio-container {\n",
    "    background-color: #ebf2fb !important;  \n",
    "    color: #000000 !important;\n",
    "}\n",
    "\n",
    "#chatbot {\n",
    "    background-color: #AAB7F8;\n",
    "    padding: 16px;\n",
    "    border-radius: 12px;\n",
    "}\n",
    "\"\"\"\n",
    "\n",
    "with gr.Blocks(theme=theme, css=custom_css, title=\"Study Copilot\") as demo:\n",
    "    gr.Markdown(\"Welcome to **AIvy** 🌿\")\n",
    "    \n",
    "    chatbot = gr.Chatbot(\n",
    "        value=[{\"role\": \"assistant\", \"content\": initial_msg}],\n",
    "        type=\"messages\",\n",
    "        height=600,\n",
    "        elem_id=\"chatbot\"\n",
    "    )\n",
    "    \n",
    "    with gr.Row():\n",
    "        msg = gr.Textbox(placeholder=\"Type your message here...\", container=False)\n",
    "\n",
    "    clear = gr.Button(\"Clear Chat\")\n",
    "\n",
    "    def user(user_message, history, file):\n",
    "        history.append({\"role\": \"user\", \"content\": user_message})\n",
    "        return \"\", history\n",
    "\n",
    "    def bot(history):\n",
    "        user_message = history[-1][\"content\"]\n",
    "        bot_response = predict(user_message, history[:-1])\n",
    "        history.append({\"role\": \"assistant\", \"content\": \"\"})\n",
    "        for response in bot_response:\n",
    "            history[-1][\"content\"] = response\n",
    "            yield history\n",
    "        chat_log.append({\n",
    "        \"user\": user_message,\n",
    "        \"assistant\": history[-1][\"content\"]\n",
    "    })\n",
    "    def save_chat_log(filename):\n",
    "    \n",
    "        with open(filename, \"w\") as f:\n",
    "            json.dump(chat_log, f, indent=2)\n",
    "\n",
    "\n",
    "\n",
    "    msg.submit(user, [msg, chatbot], [msg, chatbot], queue=False).then(\n",
    "        bot, chatbot, chatbot\n",
    "    )\n",
    "\n",
    "    def clear_chat():\n",
    "        return [{\"role\": \"assistant\", \"content\": initial_msg}]\n",
    "\n",
    "    clear.click(clear_chat, None, chatbot)\n",
    "\n",
    "demo.queue().launch(share=True)"
   ]
  },
  {
   "cell_type": "code",
   "execution_count": 13,
   "id": "83c2387c-dead-4c17-9712-01285b190672",
   "metadata": {},
   "outputs": [],
   "source": [
    "save_chat_log(\"chatlog_test_mode.json\")\n"
   ]
  },
  {
   "cell_type": "code",
   "execution_count": 14,
   "id": "0d0c1838-a371-4f1c-adc0-9bb7a1331f24",
   "metadata": {},
   "outputs": [],
   "source": [
    "save_chat_log(\"chatlog_tutor_mode.json\")\n",
    " "
   ]
  },
  {
   "cell_type": "code",
   "execution_count": 15,
   "id": "42dea1b2-d7f2-49c5-9bc2-59f5acdc30d5",
   "metadata": {},
   "outputs": [],
   "source": [
    "save_chat_log(\"chatlog_initial_learning.json\")\n"
   ]
  },
  {
   "cell_type": "code",
   "execution_count": 16,
   "id": "52ebaf86-2978-4070-ab2e-09ae1696b30b",
   "metadata": {},
   "outputs": [],
   "source": [
    "save_chat_log(\"chatlog_concept_mapper.json\")"
   ]
  },
  {
   "cell_type": "code",
   "execution_count": 2,
   "id": "de0e0e14-c58c-4d7c-9f13-295c8ab72b77",
   "metadata": {},
   "outputs": [],
   "source": [
    "import shutil\n",
    "\n",
    "shutil.rmtree('comm4190_S25_Using_LLMs_Blog')\n"
   ]
  }
 ],
 "metadata": {
  "citation-manager": {
   "items": {}
  },
  "kernelspec": {
   "display_name": "Python 3-12 (COMM4190)",
   "language": "python",
   "name": "python3-12_comm4190"
  },
  "language_info": {
   "codemirror_mode": {
    "name": "ipython",
    "version": 3
   },
   "file_extension": ".py",
   "mimetype": "text/x-python",
   "name": "python",
   "nbconvert_exporter": "python",
   "pygments_lexer": "ipython3",
   "version": "3.12.8"
  }
 },
 "nbformat": 4,
 "nbformat_minor": 5
}
